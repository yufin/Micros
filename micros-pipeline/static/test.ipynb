{
 "cells": [
  {
   "cell_type": "code",
   "execution_count": 3,
   "id": "initial_id",
   "metadata": {
    "collapsed": true,
    "ExecuteTime": {
     "end_time": "2023-12-21T09:00:52.791786Z",
     "start_time": "2023-12-21T09:00:52.324773Z"
    }
   },
   "outputs": [],
   "source": [
    "import pandas as pd\n",
    "import json \n",
    "import numpy as np"
   ]
  },
  {
   "cell_type": "code",
   "execution_count": 4,
   "outputs": [],
   "source": [
    "with open('489377937557040278.json') as f:\n",
    "    content = json.load(f)"
   ],
   "metadata": {
    "collapsed": false,
    "ExecuteTime": {
     "end_time": "2023-12-21T09:00:52.798259Z",
     "start_time": "2023-12-21T09:00:52.791975Z"
    }
   },
   "id": "4796bd4b7fcafe20"
  },
  {
   "cell_type": "code",
   "execution_count": 5,
   "outputs": [
    {
     "name": "stdout",
     "output_type": "stream",
     "text": [
      "        month  深圳禾苗通信科技有限公司 湖南博深供应链有限公司 仁寿县卓航电子科技有限公司 湖南中芯供应链有限公司 宜宾创益科技有限公司  \\\n",
      "1  2020-11-01       4399.77        None          None        None       None   \n",
      "0  2020-12-01      13005.74        None          None        None       None   \n",
      "11 2021-01-01       8700.76        None          None         0.0       None   \n",
      "10 2021-02-01       4638.06        None          None         0.0       None   \n",
      "9  2021-03-01       8154.34        None          None         0.0       None   \n",
      "8  2021-04-01       7444.75        None          None         0.0       None   \n",
      "7  2021-05-01       6897.25        None          None         0.0       None   \n",
      "6  2021-06-01       5476.91        None          None         0.0       None   \n",
      "5  2021-07-01       6859.90        None          None         0.0       None   \n",
      "4  2021-08-01       3361.94        None          None         0.0       None   \n",
      "3  2021-09-01       6522.19        None          None         0.0       None   \n",
      "2  2021-10-01       4778.99        None          None         0.0       None   \n",
      "1  2021-11-01       9273.59        None          None         0.0       None   \n",
      "0  2021-12-01       7407.99        None          None      518.61       None   \n",
      "11 2022-01-01       9757.90         0.0          None         0.0       None   \n",
      "10 2022-02-01       2068.57         0.0          None         0.0       None   \n",
      "9  2022-03-01       7809.76         0.0          None         0.0       None   \n",
      "8  2022-04-01      14105.05         0.0          None     1017.28       None   \n",
      "7  2022-05-01       9683.54         0.0          None      551.07       None   \n",
      "6  2022-06-01      11148.12         0.0          None      853.39       None   \n",
      "5  2022-07-01       7773.35         0.0          None        71.1       None   \n",
      "4  2022-08-01       5084.77         0.0          None     2197.58       None   \n",
      "3  2022-09-01       5092.30     2571.89          None     1340.95       None   \n",
      "2  2022-10-01       5741.28     1749.38          None         0.0       None   \n",
      "1  2022-11-01       5005.66     1099.42          None         0.0       None   \n",
      "0  2022-12-01       6206.19     1053.49          None         0.0       None   \n",
      "9  2023-01-01       2035.26     1130.41           0.0         0.0        0.0   \n",
      "8  2023-02-01       3983.27         0.0           0.0         0.0        0.0   \n",
      "7  2023-03-01       3983.00     1880.23       1719.31      732.26        0.0   \n",
      "6  2023-04-01      18264.34     4183.11       6436.09     1263.38        0.0   \n",
      "5  2023-05-01       3755.90     3481.96       8020.41     1937.36     949.04   \n",
      "4  2023-06-01       4529.04      5124.3        8017.6     1705.62     3178.4   \n",
      "3  2023-07-01      12934.06     4148.95           0.0     2198.61        0.0   \n",
      "2  2023-08-01      21128.18     6588.11           0.0     1979.32        0.0   \n",
      "1  2023-09-01      19647.99      7958.9           0.0     1643.74        0.0   \n",
      "0  2023-10-01      26552.19     6435.22           0.0         0.0        0.0   \n",
      "\n",
      "   泸州禾苗创先智能科技有限公司 深圳市至友时代科技有限公司 深圳市朗华供应链服务有限公司 研祥智能科技股份有限公司  ... 广东九联科技股份有限公司  \\\n",
      "1            None          None           None         None  ...         None   \n",
      "0            None          None           None         None  ...         None   \n",
      "11           None          None           None         None  ...          0.0   \n",
      "10           None          None           None         None  ...          0.0   \n",
      "9            None          None           None         None  ...          0.0   \n",
      "8            None          None           None         None  ...          0.0   \n",
      "7            None          None           None         None  ...          0.0   \n",
      "6            None          None           None         None  ...          0.0   \n",
      "5            None          None           None         None  ...          0.0   \n",
      "4            None          None           None         None  ...        41.04   \n",
      "3            None          None           None         None  ...          0.0   \n",
      "2            None          None           None         None  ...          0.0   \n",
      "1            None          None           None         None  ...          0.0   \n",
      "0            None          None           None         None  ...          0.0   \n",
      "11           None           0.0           None         None  ...         None   \n",
      "10           None           0.0           None         None  ...         None   \n",
      "9            None           0.0           None         None  ...         None   \n",
      "8            None           0.0           None         None  ...         None   \n",
      "7            None           0.0           None         None  ...         None   \n",
      "6            None           0.0           None         None  ...         None   \n",
      "5            None           0.0           None         None  ...         None   \n",
      "4            None           0.0           None         None  ...         None   \n",
      "3            None           0.0           None         None  ...         None   \n",
      "2            None           0.0           None         None  ...         None   \n",
      "1            None        663.43           None         None  ...         None   \n",
      "0            None        296.59           None         None  ...         None   \n",
      "9             0.0           0.0         542.75          0.0  ...         None   \n",
      "8             0.0           0.0         229.14          0.0  ...         None   \n",
      "7             0.0           0.0            0.0          0.0  ...         None   \n",
      "6             0.0        327.65            0.0          0.0  ...         None   \n",
      "5             0.0           0.0            0.0          0.0  ...         None   \n",
      "4             0.0        341.42            0.0          0.0  ...         None   \n",
      "3             0.0           0.0            0.0          0.0  ...         None   \n",
      "2             0.0         228.1            0.0          0.0  ...         None   \n",
      "1         2015.76           0.0            0.0          0.0  ...         None   \n",
      "0           25.13         83.61            0.0       735.18  ...         None   \n",
      "\n",
      "   深圳市伟安特电子有限公司 深圳市诚旗电子有限公司 深圳市大道同维科技有限公司 深圳前海蚂蚁芯城科技有限公司 深圳百锐科技有限公司  \\\n",
      "1          None        None          None           None       None   \n",
      "0          None        None          None           None       None   \n",
      "11          0.0         0.0           0.0            0.0        0.0   \n",
      "10          0.0         0.0           0.0            0.0        0.0   \n",
      "9         28.88         0.0         20.35          16.51        0.0   \n",
      "8           0.0         0.0           0.0            0.0        0.0   \n",
      "7           0.0         0.0          4.55            0.0        0.0   \n",
      "6           0.0       27.53           0.0            0.0        0.0   \n",
      "5           0.0         0.0           0.0            0.0      11.83   \n",
      "4           0.0         0.0           0.0           0.75        0.0   \n",
      "3           0.0         0.0           0.0           4.93        0.0   \n",
      "2           0.0         0.0           0.0            0.0        0.0   \n",
      "1           0.0         0.0           0.0            0.0        0.0   \n",
      "0           0.0         0.0           0.0            0.0        0.0   \n",
      "11         None        None          None           None       None   \n",
      "10         None        None          None           None       None   \n",
      "9          None        None          None           None       None   \n",
      "8          None        None          None           None       None   \n",
      "7          None        None          None           None       None   \n",
      "6          None        None          None           None       None   \n",
      "5          None        None          None           None       None   \n",
      "4          None        None          None           None       None   \n",
      "3          None        None          None           None       None   \n",
      "2          None        None          None           None       None   \n",
      "1          None        None          None           None       None   \n",
      "0          None        None          None           None       None   \n",
      "9          None        None          None           None       None   \n",
      "8          None        None          None           None       None   \n",
      "7          None        None          None           None       None   \n",
      "6          None        None          None           None       None   \n",
      "5          None        None          None           None       None   \n",
      "4          None        None          None           None       None   \n",
      "3          None        None          None           None       None   \n",
      "2          None        None          None           None       None   \n",
      "1          None        None          None           None       None   \n",
      "0          None        None          None           None       None   \n",
      "\n",
      "   上海锐伟电子科技有限公司 深圳鼎鸿创展科技有限公司 深圳市高信技术有限公司 深圳市乐众云科技有限公司  \n",
      "1          None         None        None          0.0  \n",
      "0          None         None        None        34.36  \n",
      "11          0.0          0.0         0.0         None  \n",
      "10          0.0          0.0         0.0         None  \n",
      "9           0.0          0.0         0.0         None  \n",
      "8           0.0          0.0         0.0         None  \n",
      "7           0.0         8.25         0.0         None  \n",
      "6           0.0          0.0         0.0         None  \n",
      "5           0.0          0.0         0.0         None  \n",
      "4           0.0          0.0         0.0         None  \n",
      "3           0.0          0.0        1.67         None  \n",
      "2           0.0          0.4         0.0         None  \n",
      "1         11.06          0.0         0.0         None  \n",
      "0           0.0          0.0         0.0         None  \n",
      "11         None         None        None         None  \n",
      "10         None         None        None         None  \n",
      "9          None         None        None         None  \n",
      "8          None         None        None         None  \n",
      "7          None         None        None         None  \n",
      "6          None         None        None         None  \n",
      "5          None         None        None         None  \n",
      "4          None         None        None         None  \n",
      "3          None         None        None         None  \n",
      "2          None         None        None         None  \n",
      "1          None         None        None         None  \n",
      "0          None         None        None         None  \n",
      "9          None         None        None         None  \n",
      "8          None         None        None         None  \n",
      "7          None         None        None         None  \n",
      "6          None         None        None         None  \n",
      "5          None         None        None         None  \n",
      "4          None         None        None         None  \n",
      "3          None         None        None         None  \n",
      "2          None         None        None         None  \n",
      "1          None         None        None         None  \n",
      "0          None         None        None         None  \n",
      "\n",
      "[36 rows x 53 columns]\n"
     ]
    }
   ],
   "source": [
    "def _transpose_sales(year: int, k: str):\n",
    "    def _to_numeric(x):\n",
    "        if isinstance(x, str):\n",
    "            try:\n",
    "                return float(x.replace(',', ''))\n",
    "            except ValueError:\n",
    "                return np.nan\n",
    "\n",
    "    _df = pd.DataFrame(content[k])\n",
    "    _df = _df.loc[:, ~_df.apply(lambda x: (x == '-').all())]\n",
    "    _df = _df.drop(columns=['XH', 'ZJE'])\n",
    "    _df.set_index('PURCHASER_NAME', inplace=True)\n",
    "    rename_col = {}\n",
    "    for col in _df.columns:\n",
    "        if col.startswith('YF_'):\n",
    "            rename_col[col] = str(year) + '-' + col.replace('YF_', '')\n",
    "    _df.rename(columns=rename_col, inplace=True)\n",
    "    _df = _df.transpose()\n",
    "    _df = _df.map(_to_numeric)\n",
    "    _df.reset_index(inplace=True, drop=False)\n",
    "    _df.columns.name = None\n",
    "    _df.rename(columns={'index': 'month'}, inplace=True)\n",
    "    _df['month'] = pd.to_datetime(_df['month'])\n",
    "    _df.sort_values(by=['month'], inplace=True, ascending=False)\n",
    "    _df.reset_index(inplace=True, drop=True)\n",
    "    _df.drop(columns=['总计'], inplace=True)\n",
    "    return _df\n",
    "\n",
    "\n",
    "y1 = 2023\n",
    "_df1 = _transpose_sales(y1, \"customerDetail_24\")\n",
    "_df2 = _transpose_sales(y2 := y1 - 1, \"customerDetail_25\")\n",
    "_df3 = _transpose_sales(y3 := y1 - 2, \"customerDetail_26\")\n",
    "_df4 = _transpose_sales(y4 := y1 - 3, \"customerDetail_27\")\n",
    "_dfconcat = pd.concat([_df1, _df2, _df3, _df4])\n",
    "_dfconcat.replace(np.nan, None, inplace=True)\n",
    "_dfconcat.sort_values(by='month', inplace=True)\n",
    "print(_dfconcat)\n",
    "\n",
    "data = []\n",
    "months = _dfconcat['month'].apply(lambda x: x.strftime(\"%Y-%m\")).tolist()\n",
    "months.insert(0, '月份')\n",
    "data.append(months)\n",
    "\n",
    "for col in _dfconcat.columns[1:]:\n",
    "    data.append([col] + _dfconcat[col].tolist())\n",
    "\n",
    "content['customerRatioChart'] = data\n",
    "\n",
    "# concentrationRateChart\n",
    "sorted1 = _df1.drop(columns=['month']).sum().sort_values(ascending=False)\n",
    "sorted2 = _df2.drop(columns=['month']).sum().sort_values(ascending=False)\n",
    "sorted3 = _df3.drop(columns=['month']).sum().sort_values(ascending=False)\n",
    "sorted4 = _df4.drop(columns=['month']).sum().sort_values(ascending=False)\n",
    "\n",
    "cr1_s1 = sorted1[sorted1.index != '其他'].head(1).sum() / sorted1.sum()\n",
    "cr5_s1 = sorted1[sorted1.index != '其他'].head(5).sum() / sorted1.sum()\n",
    "cr10_s1 = sorted1[sorted1.index != '其他'].head(10).sum() / sorted1.sum()\n",
    "cr20_s1 = sorted1[sorted1.index != '其他'].head(20).sum() / sorted1.sum()\n",
    "\n",
    "cr1_s2 = sorted2[sorted2.index != '其他'].head(1).sum() / sorted2.sum()\n",
    "cr5_s2 = sorted2[sorted2.index != '其他'].head(5).sum() / sorted2.sum()\n",
    "cr10_s2 = sorted2[sorted2.index != '其他'].head(10).sum() / sorted2.sum()\n",
    "cr20_s2 = sorted2[sorted2.index != '其他'].head(20).sum() / sorted2.sum()\n",
    "\n",
    "cr1_s3 = sorted3[sorted3.index != '其他'].head(1).sum() / sorted3.sum()\n",
    "cr5_s3 = sorted3[sorted3.index != '其他'].head(5).sum() / sorted3.sum()\n",
    "cr10_s3 = sorted3[sorted3.index != '其他'].head(10).sum() / sorted3.sum()\n",
    "cr20_s3 = sorted3[sorted3.index != '其他'].head(20).sum() / sorted3.sum()\n",
    "\n",
    "cr1_s4 = sorted4[sorted4.index != '其他'].head(1).sum() / sorted4.sum()\n",
    "cr5_s4 = sorted4[sorted4.index != '其他'].head(5).sum() / sorted4.sum()\n",
    "cr10_s4 = sorted4[sorted4.index != '其他'].head(10).sum() / sorted4.sum()\n",
    "cr20_s4 = sorted4[sorted4.index != '其他'].head(20).sum() / sorted4.sum()\n",
    "\n",
    "x1_max_m, x1_min_m = _df1['month'].max().strftime(\"%m\"), _df1['month'].min().strftime(\"%m\")\n",
    "x4_max_m, x4_min_m = _df4['month'].max().strftime(\"%m\"), _df4['month'].min().strftime(\"%m\")\n",
    "x_1 = f\"{y1}年{x1_min_m}月-{x1_min_m}月\"\n",
    "x_4 = f\"{y4}年{x4_max_m}月-{x4_max_m}月\"\n",
    "\n",
    "x_axis = [x_1, f\"{y2}年\", f\"{y3}年\", x_4]\n",
    "legend = ['CR1', 'CR5', 'CR10', 'CR20']\n",
    "\n",
    "series = [\n",
    "    [cr1_s1, cr1_s2, cr1_s3, cr1_s4],\n",
    "    [cr5_s1, cr5_s2, cr5_s3, cr5_s4],\n",
    "    [cr10_s1, cr10_s2, cr10_s3, cr10_s4],\n",
    "    [cr20_s1, cr20_s2, cr20_s3, cr20_s4]\n",
    "]\n",
    "summary_cr = (f\"{x_axis[0]}第一大客户销售额占比(CR1){cr1_s1:.2%}，同比变化{cr1_s1 / cr1_s2 - 1:.2%}\"\n",
    "              f\"前五大客户销售额占比(CR5){cr5_s1:.2%}，同比变化{cr5_s1 / cr1_s2 - 1:.2%}\"\n",
    "              f\"前10大客户占比(CR10){cr10_s1:.2%}，同比变化{cr10_s1 / cr10_s2 - 1:.2%}\"\n",
    "              f\"前20大客户占比(CR20){cr20_s1:.2%}, 同比变化{cr20_s1 / cr20_s2 - 1:.2%}。\")\n",
    "\n",
    "summary_cr += (f\"{x_axis[1]}第一大客户销售额占比(CR1){cr1_s2:.2%}，同比变化{cr1_s2 / cr1_s3 - 1:.2%}\"\n",
    "               f\"前五大客户销售额占比(CR5){cr5_s2:.2%}，同比变化{cr5_s2 / cr1_s3 - 1:.2%}\"\n",
    "               f\"前10大客户占比(CR10){cr10_s2:.2%}，同比变化{cr10_s2 / cr10_s3 - 1:.2%}\"\n",
    "               f\"前20大客户占比(CR20){cr20_s2:.2%}, 同比变化{cr20_s2 / cr20_s3 - 1:.2%}。\")\n",
    "\n",
    "comment = \"前五大客户的销售额占比（CR5）是衡量市场集中度的重要指标。其可参考如下分级：\\n0-25%显示市场高度分散；25%-40%表明客户分布较广；40%-50%反映市场均衡；50-70%指市场较集中；而70%-100%则意味着市场高度集中。\"\n",
    "\n",
    "content['concentrationRateChart'] = {\n",
    "    'x_axis': x_axis,\n",
    "    'series': series,\n",
    "    'legend': legend,\n",
    "    'summary': summary_cr,\n",
    "    'comment': comment\n",
    "}\n",
    "\n",
    "# customerSalesChart\n",
    "sales = []\n",
    "for col in _dfconcat.columns[1:]:\n",
    "    sales.append(_dfconcat[col].tolist())\n",
    "companies = _dfconcat.columns[1:].tolist()\n",
    "content['customerSalesChart'] = {\n",
    "    'series-list': sales,\n",
    "    'legend': companies,\n",
    "    'x-axis': months[1:]\n",
    "\n",
    "}"
   ],
   "metadata": {
    "collapsed": false,
    "ExecuteTime": {
     "end_time": "2023-12-21T09:00:52.833948Z",
     "start_time": "2023-12-21T09:00:52.822625Z"
    }
   },
   "id": "e1821805afe2adb5"
  },
  {
   "cell_type": "code",
   "execution_count": 6,
   "outputs": [],
   "source": [
    "_dfconcat.reset_index(inplace=True, drop=True)\n",
    "_dfconcat.replace(0, None, inplace=True)"
   ],
   "metadata": {
    "collapsed": false,
    "ExecuteTime": {
     "end_time": "2023-12-21T09:00:52.871299Z",
     "start_time": "2023-12-21T09:00:52.861824Z"
    }
   },
   "id": "1b8ccb661a50b53a"
  },
  {
   "cell_type": "code",
   "execution_count": 7,
   "outputs": [],
   "source": [
    "fp_y = {}\n",
    "lp_y = {}\n",
    "for col in _dfconcat.drop(columns=['其他']).columns[1:]:\n",
    "    # _dfconcat[col] = _dfconcat[col].astype(float)\n",
    "    idx_valid = _dfconcat[col].first_valid_index()\n",
    "    idx_valid_last = _dfconcat[col].last_valid_index()\n",
    "    t = _dfconcat.loc[idx_valid, 'month']\n",
    "    tl = _dfconcat.loc[idx_valid_last, 'month']\n",
    "    fp_y[col] = t.year\n",
    "    lp_y[col] = tl.year"
   ],
   "metadata": {
    "collapsed": false,
    "ExecuteTime": {
     "end_time": "2023-12-21T09:00:53.036516Z",
     "start_time": "2023-12-21T09:00:53.033554Z"
    }
   },
   "id": "93e39884de03ad2"
  },
  {
   "cell_type": "code",
   "execution_count": 8,
   "outputs": [
    {
     "data": {
      "text/plain": "        month  深圳禾苗通信科技有限公司 湖南博深供应链有限公司 仁寿县卓航电子科技有限公司 湖南中芯供应链有限公司 宜宾创益科技有限公司  \\\n0  2020-11-01       4399.77        None          None        None       None   \n1  2020-12-01      13005.74        None          None        None       None   \n2  2021-01-01       8700.76        None          None        None       None   \n3  2021-02-01       4638.06        None          None        None       None   \n4  2021-03-01       8154.34        None          None        None       None   \n5  2021-04-01       7444.75        None          None        None       None   \n6  2021-05-01       6897.25        None          None        None       None   \n7  2021-06-01       5476.91        None          None        None       None   \n8  2021-07-01       6859.90        None          None        None       None   \n9  2021-08-01       3361.94        None          None        None       None   \n10 2021-09-01       6522.19        None          None        None       None   \n11 2021-10-01       4778.99        None          None        None       None   \n12 2021-11-01       9273.59        None          None        None       None   \n13 2021-12-01       7407.99        None          None      518.61       None   \n14 2022-01-01       9757.90        None          None        None       None   \n15 2022-02-01       2068.57        None          None        None       None   \n16 2022-03-01       7809.76        None          None        None       None   \n17 2022-04-01      14105.05        None          None     1017.28       None   \n18 2022-05-01       9683.54        None          None      551.07       None   \n19 2022-06-01      11148.12        None          None      853.39       None   \n20 2022-07-01       7773.35        None          None        71.1       None   \n21 2022-08-01       5084.77        None          None     2197.58       None   \n22 2022-09-01       5092.30     2571.89          None     1340.95       None   \n23 2022-10-01       5741.28     1749.38          None        None       None   \n24 2022-11-01       5005.66     1099.42          None        None       None   \n25 2022-12-01       6206.19     1053.49          None        None       None   \n26 2023-01-01       2035.26     1130.41          None        None       None   \n27 2023-02-01       3983.27        None          None        None       None   \n28 2023-03-01       3983.00     1880.23       1719.31      732.26       None   \n29 2023-04-01      18264.34     4183.11       6436.09     1263.38       None   \n30 2023-05-01       3755.90     3481.96       8020.41     1937.36     949.04   \n31 2023-06-01       4529.04      5124.3        8017.6     1705.62     3178.4   \n32 2023-07-01      12934.06     4148.95          None     2198.61       None   \n33 2023-08-01      21128.18     6588.11          None     1979.32       None   \n34 2023-09-01      19647.99      7958.9          None     1643.74       None   \n35 2023-10-01      26552.19     6435.22          None        None       None   \n\n   泸州禾苗创先智能科技有限公司 深圳市至友时代科技有限公司 深圳市朗华供应链服务有限公司 研祥智能科技股份有限公司  ... 深圳市伟安特电子有限公司  \\\n0            None          None           None         None  ...         None   \n1            None          None           None         None  ...         None   \n2            None          None           None         None  ...         None   \n3            None          None           None         None  ...         None   \n4            None          None           None         None  ...        28.88   \n5            None          None           None         None  ...         None   \n6            None          None           None         None  ...         None   \n7            None          None           None         None  ...         None   \n8            None          None           None         None  ...         None   \n9            None          None           None         None  ...         None   \n10           None          None           None         None  ...         None   \n11           None          None           None         None  ...         None   \n12           None          None           None         None  ...         None   \n13           None          None           None         None  ...         None   \n14           None          None           None         None  ...         None   \n15           None          None           None         None  ...         None   \n16           None          None           None         None  ...         None   \n17           None          None           None         None  ...         None   \n18           None          None           None         None  ...         None   \n19           None          None           None         None  ...         None   \n20           None          None           None         None  ...         None   \n21           None          None           None         None  ...         None   \n22           None          None           None         None  ...         None   \n23           None          None           None         None  ...         None   \n24           None        663.43           None         None  ...         None   \n25           None        296.59           None         None  ...         None   \n26           None          None         542.75         None  ...         None   \n27           None          None         229.14         None  ...         None   \n28           None          None           None         None  ...         None   \n29           None        327.65           None         None  ...         None   \n30           None          None           None         None  ...         None   \n31           None        341.42           None         None  ...         None   \n32           None          None           None         None  ...         None   \n33           None         228.1           None         None  ...         None   \n34        2015.76          None           None         None  ...         None   \n35          25.13         83.61           None       735.18  ...         None   \n\n   深圳市诚旗电子有限公司 深圳市大道同维科技有限公司 深圳前海蚂蚁芯城科技有限公司 深圳百锐科技有限公司 上海锐伟电子科技有限公司  \\\n0         None          None           None       None         None   \n1         None          None           None       None         None   \n2         None          None           None       None         None   \n3         None          None           None       None         None   \n4         None         20.35          16.51       None         None   \n5         None          None           None       None         None   \n6         None          4.55           None       None         None   \n7        27.53          None           None       None         None   \n8         None          None           None      11.83         None   \n9         None          None           0.75       None         None   \n10        None          None           4.93       None         None   \n11        None          None           None       None         None   \n12        None          None           None       None        11.06   \n13        None          None           None       None         None   \n14        None          None           None       None         None   \n15        None          None           None       None         None   \n16        None          None           None       None         None   \n17        None          None           None       None         None   \n18        None          None           None       None         None   \n19        None          None           None       None         None   \n20        None          None           None       None         None   \n21        None          None           None       None         None   \n22        None          None           None       None         None   \n23        None          None           None       None         None   \n24        None          None           None       None         None   \n25        None          None           None       None         None   \n26        None          None           None       None         None   \n27        None          None           None       None         None   \n28        None          None           None       None         None   \n29        None          None           None       None         None   \n30        None          None           None       None         None   \n31        None          None           None       None         None   \n32        None          None           None       None         None   \n33        None          None           None       None         None   \n34        None          None           None       None         None   \n35        None          None           None       None         None   \n\n   深圳鼎鸿创展科技有限公司 深圳市高信技术有限公司 深圳市乐众云科技有限公司  year  \n0          None        None         None  2020  \n1          None        None        34.36  2020  \n2          None        None         None  2021  \n3          None        None         None  2021  \n4          None        None         None  2021  \n5          None        None         None  2021  \n6          8.25        None         None  2021  \n7          None        None         None  2021  \n8          None        None         None  2021  \n9          None        None         None  2021  \n10         None        1.67         None  2021  \n11          0.4        None         None  2021  \n12         None        None         None  2021  \n13         None        None         None  2021  \n14         None        None         None  2022  \n15         None        None         None  2022  \n16         None        None         None  2022  \n17         None        None         None  2022  \n18         None        None         None  2022  \n19         None        None         None  2022  \n20         None        None         None  2022  \n21         None        None         None  2022  \n22         None        None         None  2022  \n23         None        None         None  2022  \n24         None        None         None  2022  \n25         None        None         None  2022  \n26         None        None         None  2023  \n27         None        None         None  2023  \n28         None        None         None  2023  \n29         None        None         None  2023  \n30         None        None         None  2023  \n31         None        None         None  2023  \n32         None        None         None  2023  \n33         None        None         None  2023  \n34         None        None         None  2023  \n35         None        None         None  2023  \n\n[36 rows x 54 columns]",
      "text/html": "<div>\n<style scoped>\n    .dataframe tbody tr th:only-of-type {\n        vertical-align: middle;\n    }\n\n    .dataframe tbody tr th {\n        vertical-align: top;\n    }\n\n    .dataframe thead th {\n        text-align: right;\n    }\n</style>\n<table border=\"1\" class=\"dataframe\">\n  <thead>\n    <tr style=\"text-align: right;\">\n      <th></th>\n      <th>month</th>\n      <th>深圳禾苗通信科技有限公司</th>\n      <th>湖南博深供应链有限公司</th>\n      <th>仁寿县卓航电子科技有限公司</th>\n      <th>湖南中芯供应链有限公司</th>\n      <th>宜宾创益科技有限公司</th>\n      <th>泸州禾苗创先智能科技有限公司</th>\n      <th>深圳市至友时代科技有限公司</th>\n      <th>深圳市朗华供应链服务有限公司</th>\n      <th>研祥智能科技股份有限公司</th>\n      <th>...</th>\n      <th>深圳市伟安特电子有限公司</th>\n      <th>深圳市诚旗电子有限公司</th>\n      <th>深圳市大道同维科技有限公司</th>\n      <th>深圳前海蚂蚁芯城科技有限公司</th>\n      <th>深圳百锐科技有限公司</th>\n      <th>上海锐伟电子科技有限公司</th>\n      <th>深圳鼎鸿创展科技有限公司</th>\n      <th>深圳市高信技术有限公司</th>\n      <th>深圳市乐众云科技有限公司</th>\n      <th>year</th>\n    </tr>\n  </thead>\n  <tbody>\n    <tr>\n      <th>0</th>\n      <td>2020-11-01</td>\n      <td>4399.77</td>\n      <td>None</td>\n      <td>None</td>\n      <td>None</td>\n      <td>None</td>\n      <td>None</td>\n      <td>None</td>\n      <td>None</td>\n      <td>None</td>\n      <td>...</td>\n      <td>None</td>\n      <td>None</td>\n      <td>None</td>\n      <td>None</td>\n      <td>None</td>\n      <td>None</td>\n      <td>None</td>\n      <td>None</td>\n      <td>None</td>\n      <td>2020</td>\n    </tr>\n    <tr>\n      <th>1</th>\n      <td>2020-12-01</td>\n      <td>13005.74</td>\n      <td>None</td>\n      <td>None</td>\n      <td>None</td>\n      <td>None</td>\n      <td>None</td>\n      <td>None</td>\n      <td>None</td>\n      <td>None</td>\n      <td>...</td>\n      <td>None</td>\n      <td>None</td>\n      <td>None</td>\n      <td>None</td>\n      <td>None</td>\n      <td>None</td>\n      <td>None</td>\n      <td>None</td>\n      <td>34.36</td>\n      <td>2020</td>\n    </tr>\n    <tr>\n      <th>2</th>\n      <td>2021-01-01</td>\n      <td>8700.76</td>\n      <td>None</td>\n      <td>None</td>\n      <td>None</td>\n      <td>None</td>\n      <td>None</td>\n      <td>None</td>\n      <td>None</td>\n      <td>None</td>\n      <td>...</td>\n      <td>None</td>\n      <td>None</td>\n      <td>None</td>\n      <td>None</td>\n      <td>None</td>\n      <td>None</td>\n      <td>None</td>\n      <td>None</td>\n      <td>None</td>\n      <td>2021</td>\n    </tr>\n    <tr>\n      <th>3</th>\n      <td>2021-02-01</td>\n      <td>4638.06</td>\n      <td>None</td>\n      <td>None</td>\n      <td>None</td>\n      <td>None</td>\n      <td>None</td>\n      <td>None</td>\n      <td>None</td>\n      <td>None</td>\n      <td>...</td>\n      <td>None</td>\n      <td>None</td>\n      <td>None</td>\n      <td>None</td>\n      <td>None</td>\n      <td>None</td>\n      <td>None</td>\n      <td>None</td>\n      <td>None</td>\n      <td>2021</td>\n    </tr>\n    <tr>\n      <th>4</th>\n      <td>2021-03-01</td>\n      <td>8154.34</td>\n      <td>None</td>\n      <td>None</td>\n      <td>None</td>\n      <td>None</td>\n      <td>None</td>\n      <td>None</td>\n      <td>None</td>\n      <td>None</td>\n      <td>...</td>\n      <td>28.88</td>\n      <td>None</td>\n      <td>20.35</td>\n      <td>16.51</td>\n      <td>None</td>\n      <td>None</td>\n      <td>None</td>\n      <td>None</td>\n      <td>None</td>\n      <td>2021</td>\n    </tr>\n    <tr>\n      <th>5</th>\n      <td>2021-04-01</td>\n      <td>7444.75</td>\n      <td>None</td>\n      <td>None</td>\n      <td>None</td>\n      <td>None</td>\n      <td>None</td>\n      <td>None</td>\n      <td>None</td>\n      <td>None</td>\n      <td>...</td>\n      <td>None</td>\n      <td>None</td>\n      <td>None</td>\n      <td>None</td>\n      <td>None</td>\n      <td>None</td>\n      <td>None</td>\n      <td>None</td>\n      <td>None</td>\n      <td>2021</td>\n    </tr>\n    <tr>\n      <th>6</th>\n      <td>2021-05-01</td>\n      <td>6897.25</td>\n      <td>None</td>\n      <td>None</td>\n      <td>None</td>\n      <td>None</td>\n      <td>None</td>\n      <td>None</td>\n      <td>None</td>\n      <td>None</td>\n      <td>...</td>\n      <td>None</td>\n      <td>None</td>\n      <td>4.55</td>\n      <td>None</td>\n      <td>None</td>\n      <td>None</td>\n      <td>8.25</td>\n      <td>None</td>\n      <td>None</td>\n      <td>2021</td>\n    </tr>\n    <tr>\n      <th>7</th>\n      <td>2021-06-01</td>\n      <td>5476.91</td>\n      <td>None</td>\n      <td>None</td>\n      <td>None</td>\n      <td>None</td>\n      <td>None</td>\n      <td>None</td>\n      <td>None</td>\n      <td>None</td>\n      <td>...</td>\n      <td>None</td>\n      <td>27.53</td>\n      <td>None</td>\n      <td>None</td>\n      <td>None</td>\n      <td>None</td>\n      <td>None</td>\n      <td>None</td>\n      <td>None</td>\n      <td>2021</td>\n    </tr>\n    <tr>\n      <th>8</th>\n      <td>2021-07-01</td>\n      <td>6859.90</td>\n      <td>None</td>\n      <td>None</td>\n      <td>None</td>\n      <td>None</td>\n      <td>None</td>\n      <td>None</td>\n      <td>None</td>\n      <td>None</td>\n      <td>...</td>\n      <td>None</td>\n      <td>None</td>\n      <td>None</td>\n      <td>None</td>\n      <td>11.83</td>\n      <td>None</td>\n      <td>None</td>\n      <td>None</td>\n      <td>None</td>\n      <td>2021</td>\n    </tr>\n    <tr>\n      <th>9</th>\n      <td>2021-08-01</td>\n      <td>3361.94</td>\n      <td>None</td>\n      <td>None</td>\n      <td>None</td>\n      <td>None</td>\n      <td>None</td>\n      <td>None</td>\n      <td>None</td>\n      <td>None</td>\n      <td>...</td>\n      <td>None</td>\n      <td>None</td>\n      <td>None</td>\n      <td>0.75</td>\n      <td>None</td>\n      <td>None</td>\n      <td>None</td>\n      <td>None</td>\n      <td>None</td>\n      <td>2021</td>\n    </tr>\n    <tr>\n      <th>10</th>\n      <td>2021-09-01</td>\n      <td>6522.19</td>\n      <td>None</td>\n      <td>None</td>\n      <td>None</td>\n      <td>None</td>\n      <td>None</td>\n      <td>None</td>\n      <td>None</td>\n      <td>None</td>\n      <td>...</td>\n      <td>None</td>\n      <td>None</td>\n      <td>None</td>\n      <td>4.93</td>\n      <td>None</td>\n      <td>None</td>\n      <td>None</td>\n      <td>1.67</td>\n      <td>None</td>\n      <td>2021</td>\n    </tr>\n    <tr>\n      <th>11</th>\n      <td>2021-10-01</td>\n      <td>4778.99</td>\n      <td>None</td>\n      <td>None</td>\n      <td>None</td>\n      <td>None</td>\n      <td>None</td>\n      <td>None</td>\n      <td>None</td>\n      <td>None</td>\n      <td>...</td>\n      <td>None</td>\n      <td>None</td>\n      <td>None</td>\n      <td>None</td>\n      <td>None</td>\n      <td>None</td>\n      <td>0.4</td>\n      <td>None</td>\n      <td>None</td>\n      <td>2021</td>\n    </tr>\n    <tr>\n      <th>12</th>\n      <td>2021-11-01</td>\n      <td>9273.59</td>\n      <td>None</td>\n      <td>None</td>\n      <td>None</td>\n      <td>None</td>\n      <td>None</td>\n      <td>None</td>\n      <td>None</td>\n      <td>None</td>\n      <td>...</td>\n      <td>None</td>\n      <td>None</td>\n      <td>None</td>\n      <td>None</td>\n      <td>None</td>\n      <td>11.06</td>\n      <td>None</td>\n      <td>None</td>\n      <td>None</td>\n      <td>2021</td>\n    </tr>\n    <tr>\n      <th>13</th>\n      <td>2021-12-01</td>\n      <td>7407.99</td>\n      <td>None</td>\n      <td>None</td>\n      <td>518.61</td>\n      <td>None</td>\n      <td>None</td>\n      <td>None</td>\n      <td>None</td>\n      <td>None</td>\n      <td>...</td>\n      <td>None</td>\n      <td>None</td>\n      <td>None</td>\n      <td>None</td>\n      <td>None</td>\n      <td>None</td>\n      <td>None</td>\n      <td>None</td>\n      <td>None</td>\n      <td>2021</td>\n    </tr>\n    <tr>\n      <th>14</th>\n      <td>2022-01-01</td>\n      <td>9757.90</td>\n      <td>None</td>\n      <td>None</td>\n      <td>None</td>\n      <td>None</td>\n      <td>None</td>\n      <td>None</td>\n      <td>None</td>\n      <td>None</td>\n      <td>...</td>\n      <td>None</td>\n      <td>None</td>\n      <td>None</td>\n      <td>None</td>\n      <td>None</td>\n      <td>None</td>\n      <td>None</td>\n      <td>None</td>\n      <td>None</td>\n      <td>2022</td>\n    </tr>\n    <tr>\n      <th>15</th>\n      <td>2022-02-01</td>\n      <td>2068.57</td>\n      <td>None</td>\n      <td>None</td>\n      <td>None</td>\n      <td>None</td>\n      <td>None</td>\n      <td>None</td>\n      <td>None</td>\n      <td>None</td>\n      <td>...</td>\n      <td>None</td>\n      <td>None</td>\n      <td>None</td>\n      <td>None</td>\n      <td>None</td>\n      <td>None</td>\n      <td>None</td>\n      <td>None</td>\n      <td>None</td>\n      <td>2022</td>\n    </tr>\n    <tr>\n      <th>16</th>\n      <td>2022-03-01</td>\n      <td>7809.76</td>\n      <td>None</td>\n      <td>None</td>\n      <td>None</td>\n      <td>None</td>\n      <td>None</td>\n      <td>None</td>\n      <td>None</td>\n      <td>None</td>\n      <td>...</td>\n      <td>None</td>\n      <td>None</td>\n      <td>None</td>\n      <td>None</td>\n      <td>None</td>\n      <td>None</td>\n      <td>None</td>\n      <td>None</td>\n      <td>None</td>\n      <td>2022</td>\n    </tr>\n    <tr>\n      <th>17</th>\n      <td>2022-04-01</td>\n      <td>14105.05</td>\n      <td>None</td>\n      <td>None</td>\n      <td>1017.28</td>\n      <td>None</td>\n      <td>None</td>\n      <td>None</td>\n      <td>None</td>\n      <td>None</td>\n      <td>...</td>\n      <td>None</td>\n      <td>None</td>\n      <td>None</td>\n      <td>None</td>\n      <td>None</td>\n      <td>None</td>\n      <td>None</td>\n      <td>None</td>\n      <td>None</td>\n      <td>2022</td>\n    </tr>\n    <tr>\n      <th>18</th>\n      <td>2022-05-01</td>\n      <td>9683.54</td>\n      <td>None</td>\n      <td>None</td>\n      <td>551.07</td>\n      <td>None</td>\n      <td>None</td>\n      <td>None</td>\n      <td>None</td>\n      <td>None</td>\n      <td>...</td>\n      <td>None</td>\n      <td>None</td>\n      <td>None</td>\n      <td>None</td>\n      <td>None</td>\n      <td>None</td>\n      <td>None</td>\n      <td>None</td>\n      <td>None</td>\n      <td>2022</td>\n    </tr>\n    <tr>\n      <th>19</th>\n      <td>2022-06-01</td>\n      <td>11148.12</td>\n      <td>None</td>\n      <td>None</td>\n      <td>853.39</td>\n      <td>None</td>\n      <td>None</td>\n      <td>None</td>\n      <td>None</td>\n      <td>None</td>\n      <td>...</td>\n      <td>None</td>\n      <td>None</td>\n      <td>None</td>\n      <td>None</td>\n      <td>None</td>\n      <td>None</td>\n      <td>None</td>\n      <td>None</td>\n      <td>None</td>\n      <td>2022</td>\n    </tr>\n    <tr>\n      <th>20</th>\n      <td>2022-07-01</td>\n      <td>7773.35</td>\n      <td>None</td>\n      <td>None</td>\n      <td>71.1</td>\n      <td>None</td>\n      <td>None</td>\n      <td>None</td>\n      <td>None</td>\n      <td>None</td>\n      <td>...</td>\n      <td>None</td>\n      <td>None</td>\n      <td>None</td>\n      <td>None</td>\n      <td>None</td>\n      <td>None</td>\n      <td>None</td>\n      <td>None</td>\n      <td>None</td>\n      <td>2022</td>\n    </tr>\n    <tr>\n      <th>21</th>\n      <td>2022-08-01</td>\n      <td>5084.77</td>\n      <td>None</td>\n      <td>None</td>\n      <td>2197.58</td>\n      <td>None</td>\n      <td>None</td>\n      <td>None</td>\n      <td>None</td>\n      <td>None</td>\n      <td>...</td>\n      <td>None</td>\n      <td>None</td>\n      <td>None</td>\n      <td>None</td>\n      <td>None</td>\n      <td>None</td>\n      <td>None</td>\n      <td>None</td>\n      <td>None</td>\n      <td>2022</td>\n    </tr>\n    <tr>\n      <th>22</th>\n      <td>2022-09-01</td>\n      <td>5092.30</td>\n      <td>2571.89</td>\n      <td>None</td>\n      <td>1340.95</td>\n      <td>None</td>\n      <td>None</td>\n      <td>None</td>\n      <td>None</td>\n      <td>None</td>\n      <td>...</td>\n      <td>None</td>\n      <td>None</td>\n      <td>None</td>\n      <td>None</td>\n      <td>None</td>\n      <td>None</td>\n      <td>None</td>\n      <td>None</td>\n      <td>None</td>\n      <td>2022</td>\n    </tr>\n    <tr>\n      <th>23</th>\n      <td>2022-10-01</td>\n      <td>5741.28</td>\n      <td>1749.38</td>\n      <td>None</td>\n      <td>None</td>\n      <td>None</td>\n      <td>None</td>\n      <td>None</td>\n      <td>None</td>\n      <td>None</td>\n      <td>...</td>\n      <td>None</td>\n      <td>None</td>\n      <td>None</td>\n      <td>None</td>\n      <td>None</td>\n      <td>None</td>\n      <td>None</td>\n      <td>None</td>\n      <td>None</td>\n      <td>2022</td>\n    </tr>\n    <tr>\n      <th>24</th>\n      <td>2022-11-01</td>\n      <td>5005.66</td>\n      <td>1099.42</td>\n      <td>None</td>\n      <td>None</td>\n      <td>None</td>\n      <td>None</td>\n      <td>663.43</td>\n      <td>None</td>\n      <td>None</td>\n      <td>...</td>\n      <td>None</td>\n      <td>None</td>\n      <td>None</td>\n      <td>None</td>\n      <td>None</td>\n      <td>None</td>\n      <td>None</td>\n      <td>None</td>\n      <td>None</td>\n      <td>2022</td>\n    </tr>\n    <tr>\n      <th>25</th>\n      <td>2022-12-01</td>\n      <td>6206.19</td>\n      <td>1053.49</td>\n      <td>None</td>\n      <td>None</td>\n      <td>None</td>\n      <td>None</td>\n      <td>296.59</td>\n      <td>None</td>\n      <td>None</td>\n      <td>...</td>\n      <td>None</td>\n      <td>None</td>\n      <td>None</td>\n      <td>None</td>\n      <td>None</td>\n      <td>None</td>\n      <td>None</td>\n      <td>None</td>\n      <td>None</td>\n      <td>2022</td>\n    </tr>\n    <tr>\n      <th>26</th>\n      <td>2023-01-01</td>\n      <td>2035.26</td>\n      <td>1130.41</td>\n      <td>None</td>\n      <td>None</td>\n      <td>None</td>\n      <td>None</td>\n      <td>None</td>\n      <td>542.75</td>\n      <td>None</td>\n      <td>...</td>\n      <td>None</td>\n      <td>None</td>\n      <td>None</td>\n      <td>None</td>\n      <td>None</td>\n      <td>None</td>\n      <td>None</td>\n      <td>None</td>\n      <td>None</td>\n      <td>2023</td>\n    </tr>\n    <tr>\n      <th>27</th>\n      <td>2023-02-01</td>\n      <td>3983.27</td>\n      <td>None</td>\n      <td>None</td>\n      <td>None</td>\n      <td>None</td>\n      <td>None</td>\n      <td>None</td>\n      <td>229.14</td>\n      <td>None</td>\n      <td>...</td>\n      <td>None</td>\n      <td>None</td>\n      <td>None</td>\n      <td>None</td>\n      <td>None</td>\n      <td>None</td>\n      <td>None</td>\n      <td>None</td>\n      <td>None</td>\n      <td>2023</td>\n    </tr>\n    <tr>\n      <th>28</th>\n      <td>2023-03-01</td>\n      <td>3983.00</td>\n      <td>1880.23</td>\n      <td>1719.31</td>\n      <td>732.26</td>\n      <td>None</td>\n      <td>None</td>\n      <td>None</td>\n      <td>None</td>\n      <td>None</td>\n      <td>...</td>\n      <td>None</td>\n      <td>None</td>\n      <td>None</td>\n      <td>None</td>\n      <td>None</td>\n      <td>None</td>\n      <td>None</td>\n      <td>None</td>\n      <td>None</td>\n      <td>2023</td>\n    </tr>\n    <tr>\n      <th>29</th>\n      <td>2023-04-01</td>\n      <td>18264.34</td>\n      <td>4183.11</td>\n      <td>6436.09</td>\n      <td>1263.38</td>\n      <td>None</td>\n      <td>None</td>\n      <td>327.65</td>\n      <td>None</td>\n      <td>None</td>\n      <td>...</td>\n      <td>None</td>\n      <td>None</td>\n      <td>None</td>\n      <td>None</td>\n      <td>None</td>\n      <td>None</td>\n      <td>None</td>\n      <td>None</td>\n      <td>None</td>\n      <td>2023</td>\n    </tr>\n    <tr>\n      <th>30</th>\n      <td>2023-05-01</td>\n      <td>3755.90</td>\n      <td>3481.96</td>\n      <td>8020.41</td>\n      <td>1937.36</td>\n      <td>949.04</td>\n      <td>None</td>\n      <td>None</td>\n      <td>None</td>\n      <td>None</td>\n      <td>...</td>\n      <td>None</td>\n      <td>None</td>\n      <td>None</td>\n      <td>None</td>\n      <td>None</td>\n      <td>None</td>\n      <td>None</td>\n      <td>None</td>\n      <td>None</td>\n      <td>2023</td>\n    </tr>\n    <tr>\n      <th>31</th>\n      <td>2023-06-01</td>\n      <td>4529.04</td>\n      <td>5124.3</td>\n      <td>8017.6</td>\n      <td>1705.62</td>\n      <td>3178.4</td>\n      <td>None</td>\n      <td>341.42</td>\n      <td>None</td>\n      <td>None</td>\n      <td>...</td>\n      <td>None</td>\n      <td>None</td>\n      <td>None</td>\n      <td>None</td>\n      <td>None</td>\n      <td>None</td>\n      <td>None</td>\n      <td>None</td>\n      <td>None</td>\n      <td>2023</td>\n    </tr>\n    <tr>\n      <th>32</th>\n      <td>2023-07-01</td>\n      <td>12934.06</td>\n      <td>4148.95</td>\n      <td>None</td>\n      <td>2198.61</td>\n      <td>None</td>\n      <td>None</td>\n      <td>None</td>\n      <td>None</td>\n      <td>None</td>\n      <td>...</td>\n      <td>None</td>\n      <td>None</td>\n      <td>None</td>\n      <td>None</td>\n      <td>None</td>\n      <td>None</td>\n      <td>None</td>\n      <td>None</td>\n      <td>None</td>\n      <td>2023</td>\n    </tr>\n    <tr>\n      <th>33</th>\n      <td>2023-08-01</td>\n      <td>21128.18</td>\n      <td>6588.11</td>\n      <td>None</td>\n      <td>1979.32</td>\n      <td>None</td>\n      <td>None</td>\n      <td>228.1</td>\n      <td>None</td>\n      <td>None</td>\n      <td>...</td>\n      <td>None</td>\n      <td>None</td>\n      <td>None</td>\n      <td>None</td>\n      <td>None</td>\n      <td>None</td>\n      <td>None</td>\n      <td>None</td>\n      <td>None</td>\n      <td>2023</td>\n    </tr>\n    <tr>\n      <th>34</th>\n      <td>2023-09-01</td>\n      <td>19647.99</td>\n      <td>7958.9</td>\n      <td>None</td>\n      <td>1643.74</td>\n      <td>None</td>\n      <td>2015.76</td>\n      <td>None</td>\n      <td>None</td>\n      <td>None</td>\n      <td>...</td>\n      <td>None</td>\n      <td>None</td>\n      <td>None</td>\n      <td>None</td>\n      <td>None</td>\n      <td>None</td>\n      <td>None</td>\n      <td>None</td>\n      <td>None</td>\n      <td>2023</td>\n    </tr>\n    <tr>\n      <th>35</th>\n      <td>2023-10-01</td>\n      <td>26552.19</td>\n      <td>6435.22</td>\n      <td>None</td>\n      <td>None</td>\n      <td>None</td>\n      <td>25.13</td>\n      <td>83.61</td>\n      <td>None</td>\n      <td>735.18</td>\n      <td>...</td>\n      <td>None</td>\n      <td>None</td>\n      <td>None</td>\n      <td>None</td>\n      <td>None</td>\n      <td>None</td>\n      <td>None</td>\n      <td>None</td>\n      <td>None</td>\n      <td>2023</td>\n    </tr>\n  </tbody>\n</table>\n<p>36 rows × 54 columns</p>\n</div>"
     },
     "execution_count": 8,
     "metadata": {},
     "output_type": "execute_result"
    }
   ],
   "source": [
    "_dfconcat['year'] = _dfconcat['month'].apply(lambda x: x.year)\n",
    "_dfconcat"
   ],
   "metadata": {
    "collapsed": false,
    "ExecuteTime": {
     "end_time": "2023-12-21T09:00:53.236801Z",
     "start_time": "2023-12-21T09:00:53.212816Z"
    }
   },
   "id": "7761954ed1106355"
  },
  {
   "cell_type": "code",
   "execution_count": 9,
   "outputs": [
    {
     "data": {
      "text/plain": "[{'new_customer': 2519.5400000000004,\n  'repeat_customer': 79532.28,\n  'year': 2021,\n  'new_customer_count': 48,\n  'repeat_customer_count': 3},\n {'new_customer': 15874.150000000001,\n  'repeat_customer': 95748.0,\n  'year': 2022,\n  'new_customer_count': 30,\n  'repeat_customer_count': 21},\n {'new_customer': 32749.619999999995,\n  'repeat_customer': 170293.91999999998,\n  'year': 2023,\n  'new_customer_count': 14,\n  'repeat_customer_count': 37}]"
     },
     "execution_count": 9,
     "metadata": {},
     "output_type": "execute_result"
    }
   ],
   "source": [
    "df_temp = _dfconcat.drop(columns=['month', '其他'])\n",
    "res = df_temp.groupby('year').sum()\n",
    "stat = []\n",
    "for i in range(1, len(res)):\n",
    "    curr, prev = 0, 0\n",
    "    curr_count, prev_count = 0, 0\n",
    "    y = res.index[i]\n",
    "    for com in res.iloc[i].index:\n",
    "        # print(com)\n",
    "        y_f = fp_y.get(com)\n",
    "        if y_f >= y:\n",
    "            # 新客户\n",
    "            curr += res.iloc[i][com]\n",
    "            curr_count += 1\n",
    "        else:\n",
    "            prev += res.iloc[i][com]\n",
    "            prev_count += 1\n",
    "    # \n",
    "    stat.append({\n",
    "        'new_customer': curr,\n",
    "        'repeat_customer': prev,\n",
    "        'year': y, \n",
    "        'new_customer_count': curr_count,\n",
    "        'repeat_customer_count': prev_count\n",
    "    })\n",
    "        \n",
    "            \n",
    "stat\n",
    "         "
   ],
   "metadata": {
    "collapsed": false,
    "ExecuteTime": {
     "end_time": "2023-12-21T09:00:53.442923Z",
     "start_time": "2023-12-21T09:00:53.401546Z"
    }
   },
   "id": "7cae32ff8e8458a"
  },
  {
   "cell_type": "code",
   "execution_count": 10,
   "outputs": [
    {
     "data": {
      "text/plain": "   new_customer  repeat_customer  year  new_customer_count  \\\n2      32749.62        170293.92  2023                  14   \n1      15874.15         95748.00  2022                  30   \n0       2519.54         79532.28  2021                  48   \n\n   repeat_customer_count  repeat_customer_ratio  new_customer_ratio  \n2                     37               0.838706            0.161294  \n1                     21               0.857787            0.142213  \n0                      3               0.969293            0.030707  ",
      "text/html": "<div>\n<style scoped>\n    .dataframe tbody tr th:only-of-type {\n        vertical-align: middle;\n    }\n\n    .dataframe tbody tr th {\n        vertical-align: top;\n    }\n\n    .dataframe thead th {\n        text-align: right;\n    }\n</style>\n<table border=\"1\" class=\"dataframe\">\n  <thead>\n    <tr style=\"text-align: right;\">\n      <th></th>\n      <th>new_customer</th>\n      <th>repeat_customer</th>\n      <th>year</th>\n      <th>new_customer_count</th>\n      <th>repeat_customer_count</th>\n      <th>repeat_customer_ratio</th>\n      <th>new_customer_ratio</th>\n    </tr>\n  </thead>\n  <tbody>\n    <tr>\n      <th>2</th>\n      <td>32749.62</td>\n      <td>170293.92</td>\n      <td>2023</td>\n      <td>14</td>\n      <td>37</td>\n      <td>0.838706</td>\n      <td>0.161294</td>\n    </tr>\n    <tr>\n      <th>1</th>\n      <td>15874.15</td>\n      <td>95748.00</td>\n      <td>2022</td>\n      <td>30</td>\n      <td>21</td>\n      <td>0.857787</td>\n      <td>0.142213</td>\n    </tr>\n    <tr>\n      <th>0</th>\n      <td>2519.54</td>\n      <td>79532.28</td>\n      <td>2021</td>\n      <td>48</td>\n      <td>3</td>\n      <td>0.969293</td>\n      <td>0.030707</td>\n    </tr>\n  </tbody>\n</table>\n</div>"
     },
     "execution_count": 10,
     "metadata": {},
     "output_type": "execute_result"
    }
   ],
   "source": [
    "df_stat = pd.DataFrame(stat)\n",
    "df_stat['repeat_customer_ratio'] = df_stat['repeat_customer'] / (df_stat['new_customer'] + df_stat['repeat_customer'])\n",
    "df_stat['new_customer_ratio'] = 1 - df_stat['repeat_customer_ratio']\n",
    "df_stat.sort_values(by='year', ascending=False)"
   ],
   "metadata": {
    "collapsed": false,
    "ExecuteTime": {
     "end_time": "2023-12-21T09:00:53.664376Z",
     "start_time": "2023-12-21T09:00:53.623565Z"
    }
   },
   "id": "d97d4e66953ef2bb"
  },
  {
   "cell_type": "code",
   "execution_count": 11,
   "outputs": [
    {
     "data": {
      "text/plain": "      深圳禾苗通信科技有限公司 湖南博深供应链有限公司 仁寿县卓航电子科技有限公司 湖南中芯供应链有限公司 宜宾创益科技有限公司  \\\nyear                                                                  \n2020      17405.51           0             0           0          0   \n2021      79516.67           0             0      518.61          0   \n2022      89476.49     6474.18             0     6031.37          0   \n2023     116813.23    40931.19      24193.41    11460.29    4127.44   \n\n     泸州禾苗创先智能科技有限公司 深圳市至友时代科技有限公司 深圳市朗华供应链服务有限公司 研祥智能科技股份有限公司 福州领派兄弟科技有限公司  \\\nyear                                                                         \n2020              0             0              0            0            0   \n2021              0             0              0            0            0   \n2022              0        960.02              0            0            0   \n2023        2040.89        980.78         771.89       735.18       362.79   \n\n      ... 广东九联科技股份有限公司 深圳市伟安特电子有限公司 深圳市诚旗电子有限公司 深圳市大道同维科技有限公司 深圳前海蚂蚁芯城科技有限公司  \\\nyear  ...                                                                      \n2020  ...            0            0           0             0              0   \n2021  ...        41.04        28.88       27.53          24.9          22.19   \n2022  ...            0            0           0             0              0   \n2023  ...            0            0           0             0              0   \n\n     深圳百锐科技有限公司 上海锐伟电子科技有限公司 深圳鼎鸿创展科技有限公司 深圳市高信技术有限公司 深圳市乐众云科技有限公司  \nyear                                                                \n2020          0            0            0           0        34.36  \n2021      11.83        11.06         8.65        1.67            0  \n2022          0            0            0           0            0  \n2023          0            0            0           0            0  \n\n[4 rows x 51 columns]",
      "text/html": "<div>\n<style scoped>\n    .dataframe tbody tr th:only-of-type {\n        vertical-align: middle;\n    }\n\n    .dataframe tbody tr th {\n        vertical-align: top;\n    }\n\n    .dataframe thead th {\n        text-align: right;\n    }\n</style>\n<table border=\"1\" class=\"dataframe\">\n  <thead>\n    <tr style=\"text-align: right;\">\n      <th></th>\n      <th>深圳禾苗通信科技有限公司</th>\n      <th>湖南博深供应链有限公司</th>\n      <th>仁寿县卓航电子科技有限公司</th>\n      <th>湖南中芯供应链有限公司</th>\n      <th>宜宾创益科技有限公司</th>\n      <th>泸州禾苗创先智能科技有限公司</th>\n      <th>深圳市至友时代科技有限公司</th>\n      <th>深圳市朗华供应链服务有限公司</th>\n      <th>研祥智能科技股份有限公司</th>\n      <th>福州领派兄弟科技有限公司</th>\n      <th>...</th>\n      <th>广东九联科技股份有限公司</th>\n      <th>深圳市伟安特电子有限公司</th>\n      <th>深圳市诚旗电子有限公司</th>\n      <th>深圳市大道同维科技有限公司</th>\n      <th>深圳前海蚂蚁芯城科技有限公司</th>\n      <th>深圳百锐科技有限公司</th>\n      <th>上海锐伟电子科技有限公司</th>\n      <th>深圳鼎鸿创展科技有限公司</th>\n      <th>深圳市高信技术有限公司</th>\n      <th>深圳市乐众云科技有限公司</th>\n    </tr>\n    <tr>\n      <th>year</th>\n      <th></th>\n      <th></th>\n      <th></th>\n      <th></th>\n      <th></th>\n      <th></th>\n      <th></th>\n      <th></th>\n      <th></th>\n      <th></th>\n      <th></th>\n      <th></th>\n      <th></th>\n      <th></th>\n      <th></th>\n      <th></th>\n      <th></th>\n      <th></th>\n      <th></th>\n      <th></th>\n      <th></th>\n    </tr>\n  </thead>\n  <tbody>\n    <tr>\n      <th>2020</th>\n      <td>17405.51</td>\n      <td>0</td>\n      <td>0</td>\n      <td>0</td>\n      <td>0</td>\n      <td>0</td>\n      <td>0</td>\n      <td>0</td>\n      <td>0</td>\n      <td>0</td>\n      <td>...</td>\n      <td>0</td>\n      <td>0</td>\n      <td>0</td>\n      <td>0</td>\n      <td>0</td>\n      <td>0</td>\n      <td>0</td>\n      <td>0</td>\n      <td>0</td>\n      <td>34.36</td>\n    </tr>\n    <tr>\n      <th>2021</th>\n      <td>79516.67</td>\n      <td>0</td>\n      <td>0</td>\n      <td>518.61</td>\n      <td>0</td>\n      <td>0</td>\n      <td>0</td>\n      <td>0</td>\n      <td>0</td>\n      <td>0</td>\n      <td>...</td>\n      <td>41.04</td>\n      <td>28.88</td>\n      <td>27.53</td>\n      <td>24.9</td>\n      <td>22.19</td>\n      <td>11.83</td>\n      <td>11.06</td>\n      <td>8.65</td>\n      <td>1.67</td>\n      <td>0</td>\n    </tr>\n    <tr>\n      <th>2022</th>\n      <td>89476.49</td>\n      <td>6474.18</td>\n      <td>0</td>\n      <td>6031.37</td>\n      <td>0</td>\n      <td>0</td>\n      <td>960.02</td>\n      <td>0</td>\n      <td>0</td>\n      <td>0</td>\n      <td>...</td>\n      <td>0</td>\n      <td>0</td>\n      <td>0</td>\n      <td>0</td>\n      <td>0</td>\n      <td>0</td>\n      <td>0</td>\n      <td>0</td>\n      <td>0</td>\n      <td>0</td>\n    </tr>\n    <tr>\n      <th>2023</th>\n      <td>116813.23</td>\n      <td>40931.19</td>\n      <td>24193.41</td>\n      <td>11460.29</td>\n      <td>4127.44</td>\n      <td>2040.89</td>\n      <td>980.78</td>\n      <td>771.89</td>\n      <td>735.18</td>\n      <td>362.79</td>\n      <td>...</td>\n      <td>0</td>\n      <td>0</td>\n      <td>0</td>\n      <td>0</td>\n      <td>0</td>\n      <td>0</td>\n      <td>0</td>\n      <td>0</td>\n      <td>0</td>\n      <td>0</td>\n    </tr>\n  </tbody>\n</table>\n<p>4 rows × 51 columns</p>\n</div>"
     },
     "execution_count": 11,
     "metadata": {},
     "output_type": "execute_result"
    }
   ],
   "source": [
    "res"
   ],
   "metadata": {
    "collapsed": false,
    "ExecuteTime": {
     "end_time": "2023-12-21T09:00:53.765351Z",
     "start_time": "2023-12-21T09:00:53.741237Z"
    }
   },
   "id": "b21c6560888a7fb7"
  },
  {
   "cell_type": "code",
   "execution_count": 12,
   "outputs": [],
   "source": [
    "s1 = pd.Series(fp_y)\n",
    "s2 = pd.Series(lp_y)"
   ],
   "metadata": {
    "collapsed": false,
    "ExecuteTime": {
     "end_time": "2023-12-21T09:00:54.047194Z",
     "start_time": "2023-12-21T09:00:54.004283Z"
    }
   },
   "id": "d89dac7fcd368c81"
  },
  {
   "cell_type": "code",
   "execution_count": 13,
   "outputs": [
    {
     "data": {
      "text/plain": "                                   first  last\n深圳禾苗通信科技有限公司                        2020  2023\n湖南博深供应链有限公司                         2022  2023\n仁寿县卓航电子科技有限公司                       2023  2023\n湖南中芯供应链有限公司                         2021  2023\n宜宾创益科技有限公司                          2023  2023\n泸州禾苗创先智能科技有限公司                      2023  2023\n深圳市至友时代科技有限公司                       2022  2023\n深圳市朗华供应链服务有限公司                      2023  2023\n研祥智能科技股份有限公司                        2023  2023\n福州领派兄弟科技有限公司                        2023  2023\n深圳博斯达科技有限公司                         2023  2023\n横店集团东磁有限公司                          2023  2023\n深圳得闲科技有限公司                          2023  2023\n锐飞（深圳）智慧科技有限公司                      2022  2023\n思恩（深圳）通讯技术有限公司                      2023  2023\n深圳市瑞奇曼科技有限公司                        2023  2023\n重庆君歌电子科技有限公司                        2023  2023\n深圳市华宇扬贸易有限公司                        2022  2023\n上海航淇信息科技有限公司                        2023  2023\n广东柯丽尔新材料有限公司                        2023  2023\nSPROCOMM TECHNOLOGIES CO.,LIMITED   2022  2022\n深圳市恒利永通电子有限公司                       2022  2022\n深圳佰维存储科技股份有限公司                      2022  2022\n资阳市博祥科技有限责任公司                       2022  2022\n深圳市蓝芯特科技有限公司                        2022  2022\n深圳市芯宇电子科技有限公司                       2022  2022\n深圳科芯通讯技术有限公司                        2021  2022\n深圳市好上好信息科技股份有限公司                    2022  2022\n深圳市蓝科迅通科技有限公司                       2022  2022\n厦门威欣电子科技有限公司                        2022  2022\n深圳市国创高新科技有限公司                       2020  2022\n南京商络电子股份有限公司                        2022  2022\n深圳市信达科电子贸易有限公司                      2022  2022\n深圳市粤显厚业科技有限公司                       2022  2022\n深圳市佳润鑫通信技术有限公司                      2021  2021\n思恩（深圳)通讯技术有限公司                      2021  2021\n深圳火星探索科技有限公司                        2021  2021\n上海日升昌电子科技有限公司                       2021  2021\n符瑞电子科技（上海）有限公司                      2021  2021\n深圳日海物联技术有限公司                        2021  2021\n深圳市伟承芯通科技有限公司                       2021  2021\n广东九联科技股份有限公司                        2021  2021\n深圳市伟安特电子有限公司                        2021  2021\n深圳市诚旗电子有限公司                         2021  2021\n深圳市大道同维科技有限公司                       2021  2021\n深圳前海蚂蚁芯城科技有限公司                      2021  2021\n深圳百锐科技有限公司                          2021  2021\n上海锐伟电子科技有限公司                        2021  2021\n深圳鼎鸿创展科技有限公司                        2021  2021\n深圳市高信技术有限公司                         2021  2021\n深圳市乐众云科技有限公司                        2020  2020",
      "text/html": "<div>\n<style scoped>\n    .dataframe tbody tr th:only-of-type {\n        vertical-align: middle;\n    }\n\n    .dataframe tbody tr th {\n        vertical-align: top;\n    }\n\n    .dataframe thead th {\n        text-align: right;\n    }\n</style>\n<table border=\"1\" class=\"dataframe\">\n  <thead>\n    <tr style=\"text-align: right;\">\n      <th></th>\n      <th>first</th>\n      <th>last</th>\n    </tr>\n  </thead>\n  <tbody>\n    <tr>\n      <th>深圳禾苗通信科技有限公司</th>\n      <td>2020</td>\n      <td>2023</td>\n    </tr>\n    <tr>\n      <th>湖南博深供应链有限公司</th>\n      <td>2022</td>\n      <td>2023</td>\n    </tr>\n    <tr>\n      <th>仁寿县卓航电子科技有限公司</th>\n      <td>2023</td>\n      <td>2023</td>\n    </tr>\n    <tr>\n      <th>湖南中芯供应链有限公司</th>\n      <td>2021</td>\n      <td>2023</td>\n    </tr>\n    <tr>\n      <th>宜宾创益科技有限公司</th>\n      <td>2023</td>\n      <td>2023</td>\n    </tr>\n    <tr>\n      <th>泸州禾苗创先智能科技有限公司</th>\n      <td>2023</td>\n      <td>2023</td>\n    </tr>\n    <tr>\n      <th>深圳市至友时代科技有限公司</th>\n      <td>2022</td>\n      <td>2023</td>\n    </tr>\n    <tr>\n      <th>深圳市朗华供应链服务有限公司</th>\n      <td>2023</td>\n      <td>2023</td>\n    </tr>\n    <tr>\n      <th>研祥智能科技股份有限公司</th>\n      <td>2023</td>\n      <td>2023</td>\n    </tr>\n    <tr>\n      <th>福州领派兄弟科技有限公司</th>\n      <td>2023</td>\n      <td>2023</td>\n    </tr>\n    <tr>\n      <th>深圳博斯达科技有限公司</th>\n      <td>2023</td>\n      <td>2023</td>\n    </tr>\n    <tr>\n      <th>横店集团东磁有限公司</th>\n      <td>2023</td>\n      <td>2023</td>\n    </tr>\n    <tr>\n      <th>深圳得闲科技有限公司</th>\n      <td>2023</td>\n      <td>2023</td>\n    </tr>\n    <tr>\n      <th>锐飞（深圳）智慧科技有限公司</th>\n      <td>2022</td>\n      <td>2023</td>\n    </tr>\n    <tr>\n      <th>思恩（深圳）通讯技术有限公司</th>\n      <td>2023</td>\n      <td>2023</td>\n    </tr>\n    <tr>\n      <th>深圳市瑞奇曼科技有限公司</th>\n      <td>2023</td>\n      <td>2023</td>\n    </tr>\n    <tr>\n      <th>重庆君歌电子科技有限公司</th>\n      <td>2023</td>\n      <td>2023</td>\n    </tr>\n    <tr>\n      <th>深圳市华宇扬贸易有限公司</th>\n      <td>2022</td>\n      <td>2023</td>\n    </tr>\n    <tr>\n      <th>上海航淇信息科技有限公司</th>\n      <td>2023</td>\n      <td>2023</td>\n    </tr>\n    <tr>\n      <th>广东柯丽尔新材料有限公司</th>\n      <td>2023</td>\n      <td>2023</td>\n    </tr>\n    <tr>\n      <th>SPROCOMM TECHNOLOGIES CO.,LIMITED</th>\n      <td>2022</td>\n      <td>2022</td>\n    </tr>\n    <tr>\n      <th>深圳市恒利永通电子有限公司</th>\n      <td>2022</td>\n      <td>2022</td>\n    </tr>\n    <tr>\n      <th>深圳佰维存储科技股份有限公司</th>\n      <td>2022</td>\n      <td>2022</td>\n    </tr>\n    <tr>\n      <th>资阳市博祥科技有限责任公司</th>\n      <td>2022</td>\n      <td>2022</td>\n    </tr>\n    <tr>\n      <th>深圳市蓝芯特科技有限公司</th>\n      <td>2022</td>\n      <td>2022</td>\n    </tr>\n    <tr>\n      <th>深圳市芯宇电子科技有限公司</th>\n      <td>2022</td>\n      <td>2022</td>\n    </tr>\n    <tr>\n      <th>深圳科芯通讯技术有限公司</th>\n      <td>2021</td>\n      <td>2022</td>\n    </tr>\n    <tr>\n      <th>深圳市好上好信息科技股份有限公司</th>\n      <td>2022</td>\n      <td>2022</td>\n    </tr>\n    <tr>\n      <th>深圳市蓝科迅通科技有限公司</th>\n      <td>2022</td>\n      <td>2022</td>\n    </tr>\n    <tr>\n      <th>厦门威欣电子科技有限公司</th>\n      <td>2022</td>\n      <td>2022</td>\n    </tr>\n    <tr>\n      <th>深圳市国创高新科技有限公司</th>\n      <td>2020</td>\n      <td>2022</td>\n    </tr>\n    <tr>\n      <th>南京商络电子股份有限公司</th>\n      <td>2022</td>\n      <td>2022</td>\n    </tr>\n    <tr>\n      <th>深圳市信达科电子贸易有限公司</th>\n      <td>2022</td>\n      <td>2022</td>\n    </tr>\n    <tr>\n      <th>深圳市粤显厚业科技有限公司</th>\n      <td>2022</td>\n      <td>2022</td>\n    </tr>\n    <tr>\n      <th>深圳市佳润鑫通信技术有限公司</th>\n      <td>2021</td>\n      <td>2021</td>\n    </tr>\n    <tr>\n      <th>思恩（深圳)通讯技术有限公司</th>\n      <td>2021</td>\n      <td>2021</td>\n    </tr>\n    <tr>\n      <th>深圳火星探索科技有限公司</th>\n      <td>2021</td>\n      <td>2021</td>\n    </tr>\n    <tr>\n      <th>上海日升昌电子科技有限公司</th>\n      <td>2021</td>\n      <td>2021</td>\n    </tr>\n    <tr>\n      <th>符瑞电子科技（上海）有限公司</th>\n      <td>2021</td>\n      <td>2021</td>\n    </tr>\n    <tr>\n      <th>深圳日海物联技术有限公司</th>\n      <td>2021</td>\n      <td>2021</td>\n    </tr>\n    <tr>\n      <th>深圳市伟承芯通科技有限公司</th>\n      <td>2021</td>\n      <td>2021</td>\n    </tr>\n    <tr>\n      <th>广东九联科技股份有限公司</th>\n      <td>2021</td>\n      <td>2021</td>\n    </tr>\n    <tr>\n      <th>深圳市伟安特电子有限公司</th>\n      <td>2021</td>\n      <td>2021</td>\n    </tr>\n    <tr>\n      <th>深圳市诚旗电子有限公司</th>\n      <td>2021</td>\n      <td>2021</td>\n    </tr>\n    <tr>\n      <th>深圳市大道同维科技有限公司</th>\n      <td>2021</td>\n      <td>2021</td>\n    </tr>\n    <tr>\n      <th>深圳前海蚂蚁芯城科技有限公司</th>\n      <td>2021</td>\n      <td>2021</td>\n    </tr>\n    <tr>\n      <th>深圳百锐科技有限公司</th>\n      <td>2021</td>\n      <td>2021</td>\n    </tr>\n    <tr>\n      <th>上海锐伟电子科技有限公司</th>\n      <td>2021</td>\n      <td>2021</td>\n    </tr>\n    <tr>\n      <th>深圳鼎鸿创展科技有限公司</th>\n      <td>2021</td>\n      <td>2021</td>\n    </tr>\n    <tr>\n      <th>深圳市高信技术有限公司</th>\n      <td>2021</td>\n      <td>2021</td>\n    </tr>\n    <tr>\n      <th>深圳市乐众云科技有限公司</th>\n      <td>2020</td>\n      <td>2020</td>\n    </tr>\n  </tbody>\n</table>\n</div>"
     },
     "execution_count": 13,
     "metadata": {},
     "output_type": "execute_result"
    }
   ],
   "source": [
    "# concat s1 s2, with given col name a1, a2\n",
    "# d1 = pd.concat([s1, s2], axis=1)\n",
    "d1 = pd.concat([s1, s2], axis=1, keys=['first', 'last'])\n",
    "d1"
   ],
   "metadata": {
    "collapsed": false,
    "ExecuteTime": {
     "end_time": "2023-12-21T09:00:54.089748Z",
     "start_time": "2023-12-21T09:00:54.077838Z"
    }
   },
   "id": "a49a6640b4c239ea"
  },
  {
   "cell_type": "code",
   "execution_count": 14,
   "outputs": [
    {
     "data": {
      "text/plain": "                first  last\n深圳禾苗通信科技有限公司     2020  2023\n湖南博深供应链有限公司      2022  2023\n湖南中芯供应链有限公司      2021  2023\n深圳市至友时代科技有限公司    2022  2023\n锐飞（深圳）智慧科技有限公司   2022  2023\n深圳市华宇扬贸易有限公司     2022  2023",
      "text/html": "<div>\n<style scoped>\n    .dataframe tbody tr th:only-of-type {\n        vertical-align: middle;\n    }\n\n    .dataframe tbody tr th {\n        vertical-align: top;\n    }\n\n    .dataframe thead th {\n        text-align: right;\n    }\n</style>\n<table border=\"1\" class=\"dataframe\">\n  <thead>\n    <tr style=\"text-align: right;\">\n      <th></th>\n      <th>first</th>\n      <th>last</th>\n    </tr>\n  </thead>\n  <tbody>\n    <tr>\n      <th>深圳禾苗通信科技有限公司</th>\n      <td>2020</td>\n      <td>2023</td>\n    </tr>\n    <tr>\n      <th>湖南博深供应链有限公司</th>\n      <td>2022</td>\n      <td>2023</td>\n    </tr>\n    <tr>\n      <th>湖南中芯供应链有限公司</th>\n      <td>2021</td>\n      <td>2023</td>\n    </tr>\n    <tr>\n      <th>深圳市至友时代科技有限公司</th>\n      <td>2022</td>\n      <td>2023</td>\n    </tr>\n    <tr>\n      <th>锐飞（深圳）智慧科技有限公司</th>\n      <td>2022</td>\n      <td>2023</td>\n    </tr>\n    <tr>\n      <th>深圳市华宇扬贸易有限公司</th>\n      <td>2022</td>\n      <td>2023</td>\n    </tr>\n  </tbody>\n</table>\n</div>"
     },
     "execution_count": 14,
     "metadata": {},
     "output_type": "execute_result"
    }
   ],
   "source": [
    "df_cr = d1[(d1['first'] <2023) & (d1['last'] >= 2023)]\n",
    "df_cr"
   ],
   "metadata": {
    "collapsed": false,
    "ExecuteTime": {
     "end_time": "2023-12-21T09:00:54.534167Z",
     "start_time": "2023-12-21T09:00:54.527316Z"
    }
   },
   "id": "1763ea96a8973541"
  },
  {
   "cell_type": "code",
   "execution_count": 15,
   "outputs": [
    {
     "data": {
      "text/plain": "深圳禾苗通信科技有限公司      116813.23\n湖南博深供应链有限公司        40931.19\n湖南中芯供应链有限公司        11460.29\n深圳市至友时代科技有限公司        980.78\n锐飞（深圳）智慧科技有限公司        73.59\n深圳市华宇扬贸易有限公司          34.84\nName: 2023, dtype: object"
     },
     "execution_count": 15,
     "metadata": {},
     "output_type": "execute_result"
    }
   ],
   "source": [
    "dcurr = res[df_cr.index.tolist()].loc[2023]\n",
    "dcurr"
   ],
   "metadata": {
    "collapsed": false,
    "ExecuteTime": {
     "end_time": "2023-12-21T09:00:54.597558Z",
     "start_time": "2023-12-21T09:00:54.537091Z"
    }
   },
   "id": "f5f254c51af03c6d"
  },
  {
   "cell_type": "code",
   "execution_count": 16,
   "outputs": [],
   "source": [
    "r1 = dcurr / res.loc[2023].sum()\n",
    "r2: pd.Series = dcurr / res.loc[2022].sum()"
   ],
   "metadata": {
    "collapsed": false,
    "ExecuteTime": {
     "end_time": "2023-12-21T09:00:54.770170Z",
     "start_time": "2023-12-21T09:00:54.731557Z"
    }
   },
   "id": "f1db7e4edc5c54d6"
  },
  {
   "cell_type": "code",
   "execution_count": 17,
   "outputs": [
    {
     "data": {
      "text/plain": "                       1         2\n深圳禾苗通信科技有限公司    0.575311  1.046506\n湖南博深供应链有限公司     0.201588  0.366694\n湖南中芯供应链有限公司     0.056443   0.10267\n深圳市至友时代科技有限公司    0.00483  0.008787\n锐飞（深圳）智慧科技有限公司  0.000362  0.000659\n深圳市华宇扬贸易有限公司    0.000172  0.000312",
      "text/html": "<div>\n<style scoped>\n    .dataframe tbody tr th:only-of-type {\n        vertical-align: middle;\n    }\n\n    .dataframe tbody tr th {\n        vertical-align: top;\n    }\n\n    .dataframe thead th {\n        text-align: right;\n    }\n</style>\n<table border=\"1\" class=\"dataframe\">\n  <thead>\n    <tr style=\"text-align: right;\">\n      <th></th>\n      <th>1</th>\n      <th>2</th>\n    </tr>\n  </thead>\n  <tbody>\n    <tr>\n      <th>深圳禾苗通信科技有限公司</th>\n      <td>0.575311</td>\n      <td>1.046506</td>\n    </tr>\n    <tr>\n      <th>湖南博深供应链有限公司</th>\n      <td>0.201588</td>\n      <td>0.366694</td>\n    </tr>\n    <tr>\n      <th>湖南中芯供应链有限公司</th>\n      <td>0.056443</td>\n      <td>0.10267</td>\n    </tr>\n    <tr>\n      <th>深圳市至友时代科技有限公司</th>\n      <td>0.00483</td>\n      <td>0.008787</td>\n    </tr>\n    <tr>\n      <th>锐飞（深圳）智慧科技有限公司</th>\n      <td>0.000362</td>\n      <td>0.000659</td>\n    </tr>\n    <tr>\n      <th>深圳市华宇扬贸易有限公司</th>\n      <td>0.000172</td>\n      <td>0.000312</td>\n    </tr>\n  </tbody>\n</table>\n</div>"
     },
     "execution_count": 17,
     "metadata": {},
     "output_type": "execute_result"
    }
   ],
   "source": [
    "dfunion = pd.concat([r1, r2], axis=1, keys=['1','2'])\n",
    "dfunion"
   ],
   "metadata": {
    "collapsed": false,
    "ExecuteTime": {
     "end_time": "2023-12-21T09:00:54.898691Z",
     "start_time": "2023-12-21T09:00:54.891832Z"
    }
   },
   "id": "6a862a152ba09b2d"
  },
  {
   "cell_type": "code",
   "execution_count": 18,
   "outputs": [
    {
     "data": {
      "text/plain": "[{'深圳禾苗通信科技有限公司': 1.0465058234409568},\n {'湖南博深供应链有限公司': 0.3666941552371102},\n {'湖南中芯供应链有限公司': 0.10267039292828528},\n {'深圳市至友时代科技有限公司': 0.00878660731763364},\n {'锐飞（深圳）智慧科技有限公司': 0.0006592777508765062},\n {'深圳市华宇扬贸易有限公司': 0.0003121244305005772}]"
     },
     "execution_count": 18,
     "metadata": {},
     "output_type": "execute_result"
    }
   ],
   "source": [
    "[{k: v} for k, v in r2.to_dict().items()]\n"
   ],
   "metadata": {
    "collapsed": false,
    "ExecuteTime": {
     "end_time": "2023-12-21T09:00:55.078198Z",
     "start_time": "2023-12-21T09:00:55.054931Z"
    }
   },
   "id": "c033c82ad9375f11"
  },
  {
   "cell_type": "code",
   "execution_count": 19,
   "outputs": [
    {
     "data": {
      "text/plain": "深圳禾苗通信科技有限公司      0.575311\n湖南博深供应链有限公司       0.201588\n湖南中芯供应链有限公司       0.056443\n深圳市至友时代科技有限公司      0.00483\n锐飞（深圳）智慧科技有限公司    0.000362\n深圳市华宇扬贸易有限公司      0.000172\nName: 2023, dtype: object"
     },
     "execution_count": 19,
     "metadata": {},
     "output_type": "execute_result"
    }
   ],
   "source": [
    "r1"
   ],
   "metadata": {
    "collapsed": false,
    "ExecuteTime": {
     "end_time": "2023-12-21T09:00:56.205014Z",
     "start_time": "2023-12-21T09:00:56.200560Z"
    }
   },
   "id": "2cc355dff06e727f"
  },
  {
   "cell_type": "code",
   "execution_count": 28,
   "outputs": [
    {
     "data": {
      "text/plain": "array([0.575311236200866, 0.20158824063055636, 0.056442524593493575,\n       0.004830392535512333, 0.0003624345793025476,\n       0.00017158881292160291], dtype=object)"
     },
     "execution_count": 28,
     "metadata": {},
     "output_type": "execute_result"
    }
   ],
   "source": [
    "r1."
   ],
   "metadata": {
    "collapsed": false,
    "ExecuteTime": {
     "end_time": "2023-12-21T09:01:54.584289Z",
     "start_time": "2023-12-21T09:01:54.578911Z"
    }
   },
   "id": "159beaaace5e0bcf"
  },
  {
   "cell_type": "code",
   "execution_count": 1,
   "outputs": [],
   "source": [
    "a = [1,2,3]"
   ],
   "metadata": {
    "collapsed": false,
    "ExecuteTime": {
     "end_time": "2023-12-22T07:48:58.769075Z",
     "start_time": "2023-12-22T07:48:58.756813Z"
    }
   },
   "id": "b852ce1037e4254d"
  },
  {
   "cell_type": "code",
   "execution_count": 4,
   "outputs": [],
   "source": [
    "a.reverse()"
   ],
   "metadata": {
    "collapsed": false,
    "ExecuteTime": {
     "end_time": "2023-12-22T07:49:50.588393Z",
     "start_time": "2023-12-22T07:49:50.584451Z"
    }
   },
   "id": "c2aa3018bbb764cb"
  },
  {
   "cell_type": "code",
   "execution_count": 5,
   "outputs": [
    {
     "data": {
      "text/plain": "[3, 2, 1]"
     },
     "execution_count": 5,
     "metadata": {},
     "output_type": "execute_result"
    }
   ],
   "source": [
    "a"
   ],
   "metadata": {
    "collapsed": false,
    "ExecuteTime": {
     "end_time": "2023-12-22T07:50:00.519659Z",
     "start_time": "2023-12-22T07:50:00.506526Z"
    }
   },
   "id": "f22ee4a4797c72a7"
  },
  {
   "cell_type": "code",
   "execution_count": 6,
   "outputs": [
    {
     "data": {
      "text/plain": "[3, 2]"
     },
     "execution_count": 6,
     "metadata": {},
     "output_type": "execute_result"
    }
   ],
   "source": [
    "a[:2]"
   ],
   "metadata": {
    "collapsed": false,
    "ExecuteTime": {
     "end_time": "2023-12-22T07:50:38.598624Z",
     "start_time": "2023-12-22T07:50:38.587149Z"
    }
   },
   "id": "9dbe32ac1a5fdfb"
  },
  {
   "cell_type": "code",
   "execution_count": 7,
   "outputs": [
    {
     "data": {
      "text/plain": "[3, 2, 1]"
     },
     "execution_count": 7,
     "metadata": {},
     "output_type": "execute_result"
    }
   ],
   "source": [
    "a.copy()"
   ],
   "metadata": {
    "collapsed": false,
    "ExecuteTime": {
     "end_time": "2023-12-22T07:52:38.722868Z",
     "start_time": "2023-12-22T07:52:38.712799Z"
    }
   },
   "id": "f79c783546ac6d40"
  },
  {
   "cell_type": "code",
   "execution_count": 1,
   "outputs": [],
   "source": [
    "import pandas as pd"
   ],
   "metadata": {
    "collapsed": false,
    "ExecuteTime": {
     "end_time": "2024-01-16T06:20:55.579497Z",
     "start_time": "2024-01-16T06:20:55.194424Z"
    }
   },
   "id": "1a8780e8bfddcbda"
  },
  {
   "cell_type": "code",
   "outputs": [],
   "source": [
    "s = pd.Series([100,49])"
   ],
   "metadata": {
    "collapsed": false,
    "ExecuteTime": {
     "end_time": "2024-01-16T06:48:58.751880Z",
     "start_time": "2024-01-16T06:48:58.740294Z"
    }
   },
   "id": "d44425e3818e4a35",
   "execution_count": 23
  },
  {
   "cell_type": "code",
   "outputs": [
    {
     "data": {
      "text/plain": "0    100\n1     49\ndtype: int64"
     },
     "execution_count": 24,
     "metadata": {},
     "output_type": "execute_result"
    }
   ],
   "source": [
    "s"
   ],
   "metadata": {
    "collapsed": false,
    "ExecuteTime": {
     "end_time": "2024-01-16T06:48:59.477151Z",
     "start_time": "2024-01-16T06:48:59.468206Z"
    }
   },
   "id": "349f0f87cadb2066",
   "execution_count": 24
  },
  {
   "cell_type": "code",
   "outputs": [
    {
     "data": {
      "text/plain": "0    1.0\n1    NaN\ndtype: float64"
     },
     "execution_count": 26,
     "metadata": {},
     "output_type": "execute_result"
    }
   ],
   "source": [
    "round(s / s.shift(periods=-1) - 1, 1) \n"
   ],
   "metadata": {
    "collapsed": false,
    "ExecuteTime": {
     "end_time": "2024-01-16T06:49:06.077258Z",
     "start_time": "2024-01-16T06:49:06.067478Z"
    }
   },
   "id": "32676b5e7127c74c",
   "execution_count": 26
  },
  {
   "cell_type": "code",
   "outputs": [
    {
     "data": {
      "text/plain": "0    50.0\n1     NaN\ndtype: float64"
     },
     "execution_count": 9,
     "metadata": {},
     "output_type": "execute_result"
    }
   ],
   "source": [
    "s.shift(periods=-1)"
   ],
   "metadata": {
    "collapsed": false,
    "ExecuteTime": {
     "end_time": "2024-01-16T06:27:28.356570Z",
     "start_time": "2024-01-16T06:27:28.282318Z"
    }
   },
   "id": "24b3d786388316a",
   "execution_count": 9
  },
  {
   "cell_type": "code",
   "outputs": [],
   "source": [
    "a = [1,2,3]"
   ],
   "metadata": {
    "collapsed": false,
    "ExecuteTime": {
     "end_time": "2024-01-16T06:45:30.088160Z",
     "start_time": "2024-01-16T06:45:30.067613Z"
    }
   },
   "id": "305013402636152c",
   "execution_count": 13
  },
  {
   "cell_type": "code",
   "outputs": [
    {
     "data": {
      "text/plain": "[1, 2]"
     },
     "execution_count": 18,
     "metadata": {},
     "output_type": "execute_result"
    }
   ],
   "source": [
    "a[:2]"
   ],
   "metadata": {
    "collapsed": false,
    "ExecuteTime": {
     "end_time": "2024-01-16T06:46:31.270331Z",
     "start_time": "2024-01-16T06:46:31.259735Z"
    }
   },
   "id": "8e04e48dbd9a2555",
   "execution_count": 18
  },
  {
   "cell_type": "code",
   "outputs": [
    {
     "data": {
      "text/plain": "0    100\n1     50\ndtype: int64"
     },
     "execution_count": 19,
     "metadata": {},
     "output_type": "execute_result"
    }
   ],
   "source": [
    "s.round()"
   ],
   "metadata": {
    "collapsed": false,
    "ExecuteTime": {
     "end_time": "2024-01-16T06:48:19.385796Z",
     "start_time": "2024-01-16T06:48:19.368402Z"
    }
   },
   "id": "98290d3eda4c201a",
   "execution_count": 19
  },
  {
   "cell_type": "code",
   "outputs": [],
   "source": [],
   "metadata": {
    "collapsed": false
   },
   "id": "d69c274c9b94b581"
  }
 ],
 "metadata": {
  "kernelspec": {
   "display_name": "Python 3",
   "language": "python",
   "name": "python3"
  },
  "language_info": {
   "codemirror_mode": {
    "name": "ipython",
    "version": 2
   },
   "file_extension": ".py",
   "mimetype": "text/x-python",
   "name": "python",
   "nbconvert_exporter": "python",
   "pygments_lexer": "ipython2",
   "version": "2.7.6"
  }
 },
 "nbformat": 4,
 "nbformat_minor": 5
}
